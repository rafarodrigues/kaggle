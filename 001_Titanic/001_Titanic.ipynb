{
 "cells": [
  {
   "cell_type": "markdown",
   "id": "8c4b80cc",
   "metadata": {},
   "source": [
    "# #001 Kaggle - Titanic - Machine Learning from Disaster\n",
    "\n",
    "\n",
    "\n",
    "👨🏻‍💻 Primeira submissão para competição no Kaggle. - https://www.kaggle.com/competitions/titanic\n",
    "\n"
   ]
  },
  {
   "cell_type": "markdown",
   "id": "4cce7267-29c5-46b1-945d-a05730077683",
   "metadata": {},
   "source": [
    "# 📝INTRODUÇÃO"
   ]
  },
  {
   "cell_type": "markdown",
   "id": "f750ce5c-550e-459a-81bb-458b6e4b910a",
   "metadata": {},
   "source": [
    "> Essa é a competição mais conhecida do Kaggle, considerada como sendo a recomendada para todos iniciantes.\n",
    "> \n",
    "> **A ideia é**: a partir de uma base de dados *test*, montar um modelo que possa identificar com a maior precisão possível se um passageiro poderia ou não morrer no acidente, dados algumas variáveis como gênero, idade, preço da passagem, classe econômica e etc.\n",
    ">\n",
    "> A intenção principal é conhecer as ferramentas utilizadas para manipulação de arquivo (leitura e escrita), apresentação de dados (pandas e numpy), primeiro contato com gráficos (seaborn) e chegar perto de Machine Learning "
   ]
  },
  {
   "cell_type": "markdown",
   "id": "cc4be759",
   "metadata": {},
   "source": [
    "# 📊 EXPLORANDO OS DADOS"
   ]
  },
  {
   "cell_type": "markdown",
   "id": "28fa66bc-3985-43c8-bb29-46baeb52671f",
   "metadata": {},
   "source": [
    "Nesse projeto a ideia é ter um primeiro contato com as bibliotecas:<br>\n",
    "* numpy\n",
    "* pandas\n",
    "* matplotlib\n",
    "* seaborn\n",
    "\n",
    "Além de outras ferramentas, como sklearn e RandomForestClassifier, que serão importantes na sequência de estudos de aprendizado de máquina. "
   ]
  },
  {
   "cell_type": "code",
   "execution_count": 1,
   "id": "22f11746-f46a-4e6b-bc93-f9d6d1656a90",
   "metadata": {},
   "outputs": [],
   "source": [
    "# Importar as bibliotecas. "
   ]
  },
  {
   "cell_type": "code",
   "execution_count": 2,
   "id": "62465fc6-556c-4ed7-ae98-557d6f389f61",
   "metadata": {},
   "outputs": [
    {
     "name": "stdout",
     "output_type": "stream",
     "text": [
      "data\\gender_submission.csv\n",
      "data\\test.csv\n",
      "data\\train.csv\n"
     ]
    }
   ],
   "source": [
    "import numpy as np \n",
    "import pandas as pd \n",
    "import matplotlib.pyplot as plt\n",
    "import seaborn as sns\n",
    "import warnings \n",
    "warnings.filterwarnings(\"ignore\")\n",
    "%matplotlib inline\n",
    "\n",
    "# Os arquivos base estão na pasta \"/data/\"\n",
    "# Comando para listar todos os arquivos que serão utilizados\n",
    "import os\n",
    "for dirname, _, filenames in os.walk('data'):\n",
    "    for filename in filenames:\n",
    "        print(os.path.join(dirname, filename))"
   ]
  },
  {
   "cell_type": "code",
   "execution_count": 3,
   "id": "00960c8b",
   "metadata": {},
   "outputs": [
    {
     "data": {
      "text/html": [
       "<div>\n",
       "<style scoped>\n",
       "    .dataframe tbody tr th:only-of-type {\n",
       "        vertical-align: middle;\n",
       "    }\n",
       "\n",
       "    .dataframe tbody tr th {\n",
       "        vertical-align: top;\n",
       "    }\n",
       "\n",
       "    .dataframe thead th {\n",
       "        text-align: right;\n",
       "    }\n",
       "</style>\n",
       "<table border=\"1\" class=\"dataframe\">\n",
       "  <thead>\n",
       "    <tr style=\"text-align: right;\">\n",
       "      <th></th>\n",
       "      <th>PassengerId</th>\n",
       "      <th>Survived</th>\n",
       "      <th>Pclass</th>\n",
       "      <th>Name</th>\n",
       "      <th>Sex</th>\n",
       "      <th>Age</th>\n",
       "      <th>SibSp</th>\n",
       "      <th>Parch</th>\n",
       "      <th>Ticket</th>\n",
       "      <th>Fare</th>\n",
       "      <th>Cabin</th>\n",
       "      <th>Embarked</th>\n",
       "    </tr>\n",
       "  </thead>\n",
       "  <tbody>\n",
       "    <tr>\n",
       "      <th>0</th>\n",
       "      <td>1</td>\n",
       "      <td>0</td>\n",
       "      <td>3</td>\n",
       "      <td>Braund, Mr. Owen Harris</td>\n",
       "      <td>male</td>\n",
       "      <td>22.0</td>\n",
       "      <td>1</td>\n",
       "      <td>0</td>\n",
       "      <td>A/5 21171</td>\n",
       "      <td>7.2500</td>\n",
       "      <td>NaN</td>\n",
       "      <td>S</td>\n",
       "    </tr>\n",
       "    <tr>\n",
       "      <th>1</th>\n",
       "      <td>2</td>\n",
       "      <td>1</td>\n",
       "      <td>1</td>\n",
       "      <td>Cumings, Mrs. John Bradley (Florence Briggs Th...</td>\n",
       "      <td>female</td>\n",
       "      <td>38.0</td>\n",
       "      <td>1</td>\n",
       "      <td>0</td>\n",
       "      <td>PC 17599</td>\n",
       "      <td>71.2833</td>\n",
       "      <td>C85</td>\n",
       "      <td>C</td>\n",
       "    </tr>\n",
       "    <tr>\n",
       "      <th>2</th>\n",
       "      <td>3</td>\n",
       "      <td>1</td>\n",
       "      <td>3</td>\n",
       "      <td>Heikkinen, Miss. Laina</td>\n",
       "      <td>female</td>\n",
       "      <td>26.0</td>\n",
       "      <td>0</td>\n",
       "      <td>0</td>\n",
       "      <td>STON/O2. 3101282</td>\n",
       "      <td>7.9250</td>\n",
       "      <td>NaN</td>\n",
       "      <td>S</td>\n",
       "    </tr>\n",
       "    <tr>\n",
       "      <th>3</th>\n",
       "      <td>4</td>\n",
       "      <td>1</td>\n",
       "      <td>1</td>\n",
       "      <td>Futrelle, Mrs. Jacques Heath (Lily May Peel)</td>\n",
       "      <td>female</td>\n",
       "      <td>35.0</td>\n",
       "      <td>1</td>\n",
       "      <td>0</td>\n",
       "      <td>113803</td>\n",
       "      <td>53.1000</td>\n",
       "      <td>C123</td>\n",
       "      <td>S</td>\n",
       "    </tr>\n",
       "    <tr>\n",
       "      <th>4</th>\n",
       "      <td>5</td>\n",
       "      <td>0</td>\n",
       "      <td>3</td>\n",
       "      <td>Allen, Mr. William Henry</td>\n",
       "      <td>male</td>\n",
       "      <td>35.0</td>\n",
       "      <td>0</td>\n",
       "      <td>0</td>\n",
       "      <td>373450</td>\n",
       "      <td>8.0500</td>\n",
       "      <td>NaN</td>\n",
       "      <td>S</td>\n",
       "    </tr>\n",
       "  </tbody>\n",
       "</table>\n",
       "</div>"
      ],
      "text/plain": [
       "   PassengerId  Survived  Pclass  \\\n",
       "0            1         0       3   \n",
       "1            2         1       1   \n",
       "2            3         1       3   \n",
       "3            4         1       1   \n",
       "4            5         0       3   \n",
       "\n",
       "                                                Name     Sex   Age  SibSp  \\\n",
       "0                            Braund, Mr. Owen Harris    male  22.0      1   \n",
       "1  Cumings, Mrs. John Bradley (Florence Briggs Th...  female  38.0      1   \n",
       "2                             Heikkinen, Miss. Laina  female  26.0      0   \n",
       "3       Futrelle, Mrs. Jacques Heath (Lily May Peel)  female  35.0      1   \n",
       "4                           Allen, Mr. William Henry    male  35.0      0   \n",
       "\n",
       "   Parch            Ticket     Fare Cabin Embarked  \n",
       "0      0         A/5 21171   7.2500   NaN        S  \n",
       "1      0          PC 17599  71.2833   C85        C  \n",
       "2      0  STON/O2. 3101282   7.9250   NaN        S  \n",
       "3      0            113803  53.1000  C123        S  \n",
       "4      0            373450   8.0500   NaN        S  "
      ]
     },
     "execution_count": 3,
     "metadata": {},
     "output_type": "execute_result"
    }
   ],
   "source": [
    "# Após listar os arquivos, utilizando pandas, setamos a base de dados train_data com a planilha TRAIN.CSV\n",
    "# train_data será a base que usaremos para treinar nosso modelo\n",
    "train_data = pd.read_csv(\"data/train.csv\")\n",
    "\n",
    "# .head() mostra as primeiras linhas do arquivo, ajudando a mapear as informações que temos\n",
    "train_data.head()"
   ]
  },
  {
   "cell_type": "code",
   "execution_count": 4,
   "id": "6f2236a3-7f32-4c80-94d9-1aa79fd97241",
   "metadata": {},
   "outputs": [
    {
     "name": "stdout",
     "output_type": "stream",
     "text": [
      "<class 'pandas.core.frame.DataFrame'>\n",
      "RangeIndex: 891 entries, 0 to 890\n",
      "Data columns (total 12 columns):\n",
      " #   Column       Non-Null Count  Dtype  \n",
      "---  ------       --------------  -----  \n",
      " 0   PassengerId  891 non-null    int64  \n",
      " 1   Survived     891 non-null    int64  \n",
      " 2   Pclass       891 non-null    int64  \n",
      " 3   Name         891 non-null    object \n",
      " 4   Sex          891 non-null    object \n",
      " 5   Age          714 non-null    float64\n",
      " 6   SibSp        891 non-null    int64  \n",
      " 7   Parch        891 non-null    int64  \n",
      " 8   Ticket       891 non-null    object \n",
      " 9   Fare         891 non-null    float64\n",
      " 10  Cabin        204 non-null    object \n",
      " 11  Embarked     889 non-null    object \n",
      "dtypes: float64(2), int64(5), object(5)\n",
      "memory usage: 83.7+ KB\n"
     ]
    }
   ],
   "source": [
    "# .info() apresenta as informações do dataframe, como nome e quantidade de colunas, com a quantidade de célular por cada uma\n",
    "train_data.info()"
   ]
  },
  {
   "cell_type": "code",
   "execution_count": 5,
   "id": "d704b375",
   "metadata": {},
   "outputs": [
    {
     "data": {
      "text/html": [
       "<div>\n",
       "<style scoped>\n",
       "    .dataframe tbody tr th:only-of-type {\n",
       "        vertical-align: middle;\n",
       "    }\n",
       "\n",
       "    .dataframe tbody tr th {\n",
       "        vertical-align: top;\n",
       "    }\n",
       "\n",
       "    .dataframe thead th {\n",
       "        text-align: right;\n",
       "    }\n",
       "</style>\n",
       "<table border=\"1\" class=\"dataframe\">\n",
       "  <thead>\n",
       "    <tr style=\"text-align: right;\">\n",
       "      <th></th>\n",
       "      <th>PassengerId</th>\n",
       "      <th>Pclass</th>\n",
       "      <th>Name</th>\n",
       "      <th>Sex</th>\n",
       "      <th>Age</th>\n",
       "      <th>SibSp</th>\n",
       "      <th>Parch</th>\n",
       "      <th>Ticket</th>\n",
       "      <th>Fare</th>\n",
       "      <th>Cabin</th>\n",
       "      <th>Embarked</th>\n",
       "    </tr>\n",
       "  </thead>\n",
       "  <tbody>\n",
       "    <tr>\n",
       "      <th>0</th>\n",
       "      <td>892</td>\n",
       "      <td>3</td>\n",
       "      <td>Kelly, Mr. James</td>\n",
       "      <td>male</td>\n",
       "      <td>34.5</td>\n",
       "      <td>0</td>\n",
       "      <td>0</td>\n",
       "      <td>330911</td>\n",
       "      <td>7.8292</td>\n",
       "      <td>NaN</td>\n",
       "      <td>Q</td>\n",
       "    </tr>\n",
       "    <tr>\n",
       "      <th>1</th>\n",
       "      <td>893</td>\n",
       "      <td>3</td>\n",
       "      <td>Wilkes, Mrs. James (Ellen Needs)</td>\n",
       "      <td>female</td>\n",
       "      <td>47.0</td>\n",
       "      <td>1</td>\n",
       "      <td>0</td>\n",
       "      <td>363272</td>\n",
       "      <td>7.0000</td>\n",
       "      <td>NaN</td>\n",
       "      <td>S</td>\n",
       "    </tr>\n",
       "    <tr>\n",
       "      <th>2</th>\n",
       "      <td>894</td>\n",
       "      <td>2</td>\n",
       "      <td>Myles, Mr. Thomas Francis</td>\n",
       "      <td>male</td>\n",
       "      <td>62.0</td>\n",
       "      <td>0</td>\n",
       "      <td>0</td>\n",
       "      <td>240276</td>\n",
       "      <td>9.6875</td>\n",
       "      <td>NaN</td>\n",
       "      <td>Q</td>\n",
       "    </tr>\n",
       "    <tr>\n",
       "      <th>3</th>\n",
       "      <td>895</td>\n",
       "      <td>3</td>\n",
       "      <td>Wirz, Mr. Albert</td>\n",
       "      <td>male</td>\n",
       "      <td>27.0</td>\n",
       "      <td>0</td>\n",
       "      <td>0</td>\n",
       "      <td>315154</td>\n",
       "      <td>8.6625</td>\n",
       "      <td>NaN</td>\n",
       "      <td>S</td>\n",
       "    </tr>\n",
       "    <tr>\n",
       "      <th>4</th>\n",
       "      <td>896</td>\n",
       "      <td>3</td>\n",
       "      <td>Hirvonen, Mrs. Alexander (Helga E Lindqvist)</td>\n",
       "      <td>female</td>\n",
       "      <td>22.0</td>\n",
       "      <td>1</td>\n",
       "      <td>1</td>\n",
       "      <td>3101298</td>\n",
       "      <td>12.2875</td>\n",
       "      <td>NaN</td>\n",
       "      <td>S</td>\n",
       "    </tr>\n",
       "  </tbody>\n",
       "</table>\n",
       "</div>"
      ],
      "text/plain": [
       "   PassengerId  Pclass                                          Name     Sex  \\\n",
       "0          892       3                              Kelly, Mr. James    male   \n",
       "1          893       3              Wilkes, Mrs. James (Ellen Needs)  female   \n",
       "2          894       2                     Myles, Mr. Thomas Francis    male   \n",
       "3          895       3                              Wirz, Mr. Albert    male   \n",
       "4          896       3  Hirvonen, Mrs. Alexander (Helga E Lindqvist)  female   \n",
       "\n",
       "    Age  SibSp  Parch   Ticket     Fare Cabin Embarked  \n",
       "0  34.5      0      0   330911   7.8292   NaN        Q  \n",
       "1  47.0      1      0   363272   7.0000   NaN        S  \n",
       "2  62.0      0      0   240276   9.6875   NaN        Q  \n",
       "3  27.0      0      0   315154   8.6625   NaN        S  \n",
       "4  22.0      1      1  3101298  12.2875   NaN        S  "
      ]
     },
     "execution_count": 5,
     "metadata": {},
     "output_type": "execute_result"
    }
   ],
   "source": [
    "# Fazemos o mesmo processo para o dataframe que será usado \n",
    "# para testar nosso modelo, após o aprendizado com o df train_data\n",
    "\n",
    "test_data = pd.read_csv(\"data/test.csv\")\n",
    "test_data.head()"
   ]
  },
  {
   "cell_type": "markdown",
   "id": "0b4f3885-e9cc-4ffb-bdb3-3e9a8902bdfa",
   "metadata": {},
   "source": [
    "## Mapeando os dados\n",
    "Precisamos começar a mapear nossos arquivos, entendendo quais dados, colunas e arquivos podem ser relevantes para nosso modelo de treinamento.<br>\n",
    "Nesse passo, é importante ter uma visão mais ampla de quais informações podem nos ajudar a traçar perguntas, que serão respondidas mais tardes."
   ]
  },
  {
   "cell_type": "code",
   "execution_count": 6,
   "id": "19ec5105-0882-44b0-8979-4411c56ff540",
   "metadata": {},
   "outputs": [],
   "source": [
    "# Vamos começar com a separação por gênero"
   ]
  },
  {
   "cell_type": "code",
   "execution_count": 7,
   "id": "2d2f9b33-79e3-41cb-8c6a-3c1c47f11221",
   "metadata": {},
   "outputs": [
    {
     "name": "stdout",
     "output_type": "stream",
     "text": [
      "male      577\n",
      "female    314\n",
      "Name: Sex, dtype: int64\n",
      "- - - - - - - - - - - - - - - - - - - - - - - - - \n",
      "Homens: 577 (64.76%)\n",
      "Mulheres: 314 (35.24%)\n"
     ]
    }
   ],
   "source": [
    "genero = train_data['Sex'].value_counts()\n",
    "print(genero)\n",
    "\n",
    "homens = genero['male']\n",
    "mulheres = genero['female']\n",
    "\n",
    "print(25*'- ')\n",
    "masc_porc = genero['male']/(genero['male'] + genero['female'])*100\n",
    "femi_porc = genero['female']/(genero['male'] + genero['female'])*100\n",
    "print('Homens: {} ({:.2f}%)'.format(homens,masc_porc))\n",
    "print('Mulheres: {} ({:.2f}%)'.format(mulheres,femi_porc))"
   ]
  },
  {
   "cell_type": "code",
   "execution_count": 8,
   "id": "2dd2a311-690e-4d74-bf12-30fe55c8cdba",
   "metadata": {},
   "outputs": [],
   "source": [
    "# Com nossos primeiros dados separados, vamos apresentá-los usando matplotlib e seaborn"
   ]
  },
  {
   "cell_type": "code",
   "execution_count": 9,
   "id": "0575ab48-e5c5-44b1-9822-dca3748e014f",
   "metadata": {},
   "outputs": [],
   "source": [
    "# Configuração do seaborn\n",
    "#Cores\n",
    "cores_genero = ['#87CEFA','#FF69B4']\n",
    "cores_tipo_vitima = [\"#b08d57\", \"#C0C0C0\", \"#FFD700\"]\n",
    "\n",
    "#Paletas\n",
    "paleta_genero = sns.color_palette(cores_genero)\n",
    "paleta_classe_vitima = sns.color_palette(cores_tipo_vitima)"
   ]
  },
  {
   "cell_type": "code",
   "execution_count": 10,
   "id": "d3b92f9a-8166-4c70-ae10-7c3351e3dfe8",
   "metadata": {},
   "outputs": [
    {
     "data": {
      "image/png": "[encoded data removed]",
      "text/plain": [
       "<Figure size 432x288 with 1 Axes>"
      ]
     },
     "metadata": {},
     "output_type": "display_data"
    }
   ],
   "source": [
    "fig = plt.figure()\n",
    "sns.set_style('white')\n",
    "sns.set(font_scale=1)\n",
    "# sexo = train_data['Sex'].value_counts()\n",
    "sexo_num = [genero[0],genero[1]]\n",
    "# percs = ['Homens: ' + str(round(masc_porc,2)) + '%','Mulheres: ' + str(round(femi_porc,2)) + '%']\n",
    "# Treinando a linha anterior para boas práticas\n",
    "percs = [f'Homens: {str(round(masc_porc,2))}% ',f'Mulheres: {str(round(femi_porc,2))}% ']\n",
    "plt.pie(sexo_num, labels=percs,colors=paleta_genero)\n",
    "plt.title('Separação por gênero',fontsize=21);"
   ]
  },
  {
   "cell_type": "code",
   "execution_count": 11,
   "id": "8cce807a-9cd3-4c1e-a679-4216c76cf2ec",
   "metadata": {},
   "outputs": [
    {
     "data": {
      "image/png": "[encoded data removed]",
      "text/plain": [
       "<Figure size 1368x504 with 1 Axes>"
      ]
     },
     "metadata": {},
     "output_type": "display_data"
    }
   ],
   "source": [
    "fig = plt.figure(figsize=(19,7))\n",
    "sns.set_style('whitegrid')\n",
    "df = train_data\n",
    "df['idade_homem'] = df[df['Sex'] == 'male']['Age'] #idade das vitimas masculinas\n",
    "df['idade_homem'] = df['idade_homem'].values.astype(int) #Transformar em int\n",
    "df['idade_mulher'] = df[df['Sex'] == 'female']['Age'] #idade das vitimas femininas\n",
    "df['idade_mulher'] = df['idade_mulher'].values.astype(int)\n",
    "sns.countplot('idade_homem',color='#6495ED',data=df)\n",
    "sns.countplot('idade_mulher',color='#FF69B4',data=df)\n",
    "plt.xlim(10.5,51.5)\n",
    "plt.xlabel('Idade',fontsize=17)\n",
    "plt.ylabel('N° de passageiros',fontsize=17)\n",
    "plt.ylim(0,25)\n",
    "plt.xticks(fontsize=14)\n",
    "plt.yticks(fontsize=15)\n",
    "plt.title('Distribuição das idades por gênero ',fontsize=23);"
   ]
  },
  {
   "cell_type": "code",
   "execution_count": 12,
   "id": "5cce33b2-ac00-4d6e-913e-5514a7b5c522",
   "metadata": {},
   "outputs": [
    {
     "data": {
      "image/png": "[encoded data removed]",
      "text/plain": [
       "<Figure size 720x360 with 1 Axes>"
      ]
     },
     "metadata": {},
     "output_type": "display_data"
    }
   ],
   "source": [
    "fig = plt.figure(figsize=(10,5))\n",
    "y = train_data['Pclass'].count()\n",
    "sns.countplot('Pclass',order=[3,2,1],palette=paleta_classe_vitima,data=train_data)\n",
    "plt.xlim(-0.5,2.5)\n",
    "plt.title('Passageiros por Classe',fontsize=21)\n",
    "plt.xticks(fontsize=14)\n",
    "plt.yticks(fontsize=15)\n",
    "plt.xlabel('Classe', fontsize=15)\n",
    "plt.ylabel('Passageiros',fontsize=15);\n"
   ]
  },
  {
   "cell_type": "code",
   "execution_count": 13,
   "id": "35f4f96c",
   "metadata": {},
   "outputs": [
    {
     "name": "stdout",
     "output_type": "stream",
     "text": [
      "Total de mulheres que sobreviveram: 233\n",
      "Total de mulheres no navio: 314\n",
      "\n",
      "Total de homens que sobreviveram: 109\n",
      "Total de homens no navio: 577\n",
      "\n",
      "% de mulheres que sobreviveram: 0.7420382165605095\n",
      "% de homens que sobreviveram: 0.18890814558058924\n"
     ]
    }
   ],
   "source": [
    "# Identificamos agora a quantidade de Homens e Mulheres que sobreviveram\n",
    "\n",
    "women = train_data.loc[train_data.Sex == 'female'][\"Survived\"]\n",
    "rate_women = sum(women)/len(women)\n",
    "print(f'Total de mulheres que sobreviveram: {sum(women)}')\n",
    "print(f'Total de mulheres no navio: {len(women)}')\n",
    "print('')\n",
    "men = train_data.loc[train_data.Sex == 'male'][\"Survived\"]\n",
    "rate_men = sum(men)/len(men)\n",
    "print(f'Total de homens que sobreviveram: {sum(men)}')\n",
    "print(f'Total de homens no navio: {len(men)}')\n",
    "print('')\n",
    "print(\"% de mulheres que sobreviveram:\", rate_women)\n",
    "print(\"% de homens que sobreviveram:\", rate_men)"
   ]
  },
  {
   "cell_type": "code",
   "execution_count": 14,
   "id": "4961eda0-e710-47be-bcd1-1652c592364c",
   "metadata": {},
   "outputs": [
    {
     "data": {
      "image/png": "[encoded data removed]",
      "text/plain": [
       "<Figure size 288x288 with 1 Axes>"
      ]
     },
     "metadata": {},
     "output_type": "display_data"
    }
   ],
   "source": [
    "sns.set(font_scale=2)\n",
    "fig = plt.figure(figsize=(4,4))\n",
    "sns.set_style('ticks')\n",
    "sexo_num = [sum(men),sum(women)]\n",
    "plt.pie(sexo_num, labels=['Homens','Mulheres'],colors=paleta_genero)\n",
    "plt.title('Sobreviventes por Gênero',fontsize=21);"
   ]
  },
  {
   "cell_type": "markdown",
   "id": "cc9a1278-b4ad-4c8d-8a68-a2cc243c17e3",
   "metadata": {},
   "source": [
    "### Percebemos que o número de mulheres é significantemente maior que o número de homens. "
   ]
  },
  {
   "cell_type": "markdown",
   "id": "cae7cdb9",
   "metadata": {},
   "source": [
    "# Montando modelo de ML"
   ]
  },
  {
   "cell_type": "code",
   "execution_count": 15,
   "id": "48ff51c8",
   "metadata": {},
   "outputs": [
    {
     "name": "stdout",
     "output_type": "stream",
     "text": [
      "Modelo salvo como 'resultado.csv'\n"
     ]
    }
   ],
   "source": [
    "from sklearn.ensemble import RandomForestClassifier\n",
    "\n",
    "y = train_data[\"Survived\"]\n",
    "\n",
    "features = [\"Pclass\", \"Sex\", \"SibSp\", \"Parch\"]\n",
    "X = pd.get_dummies(train_data[features])\n",
    "X_test = pd.get_dummies(test_data[features])\n",
    "\n",
    "model = RandomForestClassifier(n_estimators=100, max_depth=5, random_state=1)\n",
    "model.fit(X, y)\n",
    "predictions = model.predict(X_test)\n",
    "\n",
    "output = pd.DataFrame({'PassengerId': test_data.PassengerId, 'Survived': predictions})\n",
    "output.to_csv('resultado.csv', index=False)\n",
    "print(\"Modelo salvo como 'resultado.csv'\")"
   ]
  },
  {
   "cell_type": "markdown",
   "id": "91a24f14",
   "metadata": {},
   "source": [
    "# Explorando o resultado"
   ]
  },
  {
   "cell_type": "code",
   "execution_count": 16,
   "id": "c50789c2",
   "metadata": {},
   "outputs": [
    {
     "data": {
      "text/html": [
       "<div>\n",
       "<style scoped>\n",
       "    .dataframe tbody tr th:only-of-type {\n",
       "        vertical-align: middle;\n",
       "    }\n",
       "\n",
       "    .dataframe tbody tr th {\n",
       "        vertical-align: top;\n",
       "    }\n",
       "\n",
       "    .dataframe thead th {\n",
       "        text-align: right;\n",
       "    }\n",
       "</style>\n",
       "<table border=\"1\" class=\"dataframe\">\n",
       "  <thead>\n",
       "    <tr style=\"text-align: right;\">\n",
       "      <th></th>\n",
       "      <th>PassengerId</th>\n",
       "      <th>Survived</th>\n",
       "    </tr>\n",
       "  </thead>\n",
       "  <tbody>\n",
       "    <tr>\n",
       "      <th>0</th>\n",
       "      <td>892</td>\n",
       "      <td>0</td>\n",
       "    </tr>\n",
       "    <tr>\n",
       "      <th>1</th>\n",
       "      <td>893</td>\n",
       "      <td>1</td>\n",
       "    </tr>\n",
       "    <tr>\n",
       "      <th>2</th>\n",
       "      <td>894</td>\n",
       "      <td>0</td>\n",
       "    </tr>\n",
       "    <tr>\n",
       "      <th>3</th>\n",
       "      <td>895</td>\n",
       "      <td>0</td>\n",
       "    </tr>\n",
       "    <tr>\n",
       "      <th>4</th>\n",
       "      <td>896</td>\n",
       "      <td>1</td>\n",
       "    </tr>\n",
       "  </tbody>\n",
       "</table>\n",
       "</div>"
      ],
      "text/plain": [
       "   PassengerId  Survived\n",
       "0          892         0\n",
       "1          893         1\n",
       "2          894         0\n",
       "3          895         0\n",
       "4          896         1"
      ]
     },
     "execution_count": 16,
     "metadata": {},
     "output_type": "execute_result"
    }
   ],
   "source": [
    "resultado = pd.read_csv(\"resultado.csv\")\n",
    "resultado.head()"
   ]
  }
 ],
 "metadata": {
  "kernelspec": {
   "display_name": "Python 3 (ipykernel)",
   "language": "python",
   "name": "python3"
  },
  "language_info": {
   "codemirror_mode": {
    "name": "ipython",
    "version": 3
   },
   "file_extension": ".py",
   "mimetype": "text/x-python",
   "name": "python",
   "nbconvert_exporter": "python",
   "pygments_lexer": "ipython3",
   "version": "3.9.7"
  }
 },
 "nbformat": 4,
 "nbformat_minor": 5
}
